{
 "cells": [
  {
   "cell_type": "code",
   "execution_count": null,
   "id": "46f0318f",
   "metadata": {},
   "outputs": [
    {
     "name": "stdout",
     "output_type": "stream",
     "text": [
      "[ 3.    5.55 -0.35]\n"
     ]
    }
   ],
   "source": [
    "import numpy as np\n",
    "import math\n",
    "I = np.array([1,2,3])\n",
    "W = np.array([[.3,.5,-.1],[.65,-.4,.9],[.5,-.8,.15]])\n",
    "b = np.array([2,3,.3])\n",
    "output = W@I + b # @ character is shorthand for matmul\n",
    "print(output)"
   ]
  },
  {
   "cell_type": "code",
   "execution_count": 39,
   "id": "29ad2091",
   "metadata": {},
   "outputs": [],
   "source": [
    "def sigmoid(x):\n",
    "    return 1/(1+np.exp(-x))\n",
    "\n",
    "def reLU(x):\n",
    "    return np.maximum(0,x)\n",
    "\n",
    "def sigmoid_deriv(x):\n",
    "    s = sigmoid(x)\n",
    "    return s * (1 - s)\n",
    "\n",
    "def softmax(x):\n",
    "    e_x = np.exp(x - np.max(x))\n",
    "    return e_x / np.sum(e_x, axis=0)\n",
    "\n",
    "\n"
   ]
  },
  {
   "cell_type": "code",
   "execution_count": 40,
   "id": "512549e5",
   "metadata": {},
   "outputs": [
    {
     "name": "stdout",
     "output_type": "stream",
     "text": [
      "relu output: [3.   5.55 0.  ]\n",
      "sigmoid output: [0.95257413 0.9961276  0.41338242]\n",
      "sigmoid derivative output: [0.04517666 0.00385741 0.2424974 ]\n",
      "softmax output: [0.07224291 0.92522249 0.0025346 ]\n"
     ]
    }
   ],
   "source": [
    "print (f\"relu output: {reLU(output)}\")\n",
    "print (f\"sigmoid output: {sigmoid(output)}\")\n",
    "print (f\"sigmoid derivative output: {sigmoid_deriv(output)}\")\n",
    "print (f\"softmax output: {softmax(output)}\")"
   ]
  }
 ],
 "metadata": {
  "kernelspec": {
   "display_name": "Python 3",
   "language": "python",
   "name": "python3"
  },
  "language_info": {
   "codemirror_mode": {
    "name": "ipython",
    "version": 3
   },
   "file_extension": ".py",
   "mimetype": "text/x-python",
   "name": "python",
   "nbconvert_exporter": "python",
   "pygments_lexer": "ipython3",
   "version": "3.11.0"
  }
 },
 "nbformat": 4,
 "nbformat_minor": 5
}
